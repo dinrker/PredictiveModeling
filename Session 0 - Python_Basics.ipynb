{
 "cells": [
  {
   "cell_type": "markdown",
   "metadata": {
    "collapsed": false
   },
   "source": [
    "![alt text](http://datascience.uci.edu/wp-content/uploads/sites/2/2014/09/data_science_logo_with_image1.png 'UCI_data_science')"
   ]
  },
  {
   "cell_type": "markdown",
   "metadata": {},
   "source": [
    "## Outline\n",
    "1. IPython and IPython Notebooks\n",
    "1. Numpy\n",
    "1. Pandas"
   ]
  },
  {
   "cell_type": "markdown",
   "metadata": {},
   "source": [
    "## Python and IPython\n",
    "* `python` is a programming language and also the name of the program that runs scripts written in that language.\n",
    "* If you're running scripts from the command line you can use either `ipython` with something like `ipython my_script.py` or `python` with something like `python my_script.py`\n",
    "* If you're using the command line interpreter interactively to load and explore data, try out a new package, etc. always use `ipython` over `python`.  This is because `ipython` has a bunch of features like tab completion, inline help, and easy access to shell commands which are just plain great (more on these in a bit)."
   ]
  },
  {
   "cell_type": "markdown",
   "metadata": {},
   "source": [
    "## IPython Notebook\n",
    "* IPython notebook is an interactive front-end to ipython which lets you combine snippets of python code with explanations, images, videos, whatever.  \n",
    "* It's also really convenient for conveying experimental results.\n",
    "* http://nbviewer.ipython.org\n"
   ]
  },
  {
   "cell_type": "markdown",
   "metadata": {},
   "source": [
    "### Notebook Concepts\n",
    "* **Cells** -- That grey box is called a cell.  An IPython notebook is nothing but a series of cells.  \n",
    "* **Selecting** -- You can tell if you have a cell selected because it will have a thin, black box around it.\n",
    "* **Running a Cell** -- Running a cell displays its output.  You can run a cell by pressing **`shift + enter`** while it's selected (or click the play button toward the top of the screen). \n",
    "* **Modes** -- There are two different ways of having a cell selected:\n",
    "  * **Command Mode** -- Lets you delete a cell and change its type (more on this in a second).\n",
    "  * **Edit Mode** -- Lets you change the contents of a cell.\n",
    "\n",
    "### Aside: Keyboard Shortcuts That I Use A Lot\n",
    "* (When describing keyboard shortcuts, `+` means 'press at the same time', `,` means 'press after'\n",
    "* **`Enter`** -- Run this cell and make a new one after it\n",
    "* **`Esc`** -- Stop editing this cell\n",
    "* **`Option + Enter`** -- Run this cell and make a new cell after it (Note: this is OSX specific.  Check help >> keyboard shortcuts to find your operating system's version)\n",
    "* **`Shift + Enter`** -- Run this cell and don't make a new one after it\n",
    "* **`Up Arrow`** and **`Down Arrow`**  -- Navigate between cells (must be in command mode)\n",
    "* **`Esc, m, Enter`** -- Convert the current cell to markdown and start editing it again\n",
    "* **`Esc, y, Enter`** -- Convert the current cell to a code cell and start editing it again\n",
    "* **`Esc, d, d`** -- Delete the current cell\n",
    "* **`Esc, a`** -- Create a new cell above the current one\n",
    "* **`Esc, b`** -- Create a new cell below the current one\n",
    "* **`Command + /`** -- Toggle comments in Python code (OSX)\n",
    "* **`Ctrl + /`** -- Toggle comments in Python code (Linux / Windows)\n",
    "\n",
    "### <span style=\"color:red\">Check more at [here](http://johnlaudun.org/20131228-ipython-notebook-keyboard-shortcuts/)  </span>"
   ]
  },
  {
   "cell_type": "markdown",
   "metadata": {},
   "source": [
    "## Numpy\n",
    "Numpy is the main package that you'll use for doing scientific computing in Python.  Numpy provides a multidimensional array datatype called `ndarray` which can do things like vector and matrix computations.\n",
    "\n",
    "### Resources:\n",
    "* [Official Numpy Tutorial](http://wiki.scipy.org/Tentative_NumPy_Tutorial)\n",
    "* [Numpy, R, Matlab Cheat Sheet](http://mathesaurus.sourceforge.net/matlab-python-xref.pdf)\n",
    "* [Another Numpy, R, Matlab Cheat Sheet](http://sebastianraschka.com/Articles/2014_matrix_cheatsheet_table.html)"
   ]
  },
  {
   "cell_type": "code",
   "execution_count": 1,
   "metadata": {
    "collapsed": false,
    "scrolled": false
   },
   "outputs": [
    {
     "name": "stdout",
     "output_type": "stream",
     "text": [
      "a:\n",
      "[1 4 6]\n",
      "a.shape: (3,)\n",
      "\n",
      "b:\n",
      "[[6 7]\n",
      " [3 1]\n",
      " [4 0]]\n",
      "b.shape: (3, 2)\n",
      "\n"
     ]
    }
   ],
   "source": [
    "# you don't have to rename numpy to np but it's customary to do so\n",
    "import numpy as np\n",
    "\n",
    "# you can create a 1-d array with a list of numbers\n",
    "a = np.array([1, 4, 6])\n",
    "print 'a:'\n",
    "print a\n",
    "print 'a.shape:', a.shape\n",
    "print \n",
    "\n",
    "# you can create a 2-d array with a list of lists of numbers\n",
    "b = np.array([[6, 7], [3, 1], [4, 0]])\n",
    "print 'b:'\n",
    "print b\n",
    "print 'b.shape:', b.shape\n",
    "print"
   ]
  },
  {
   "cell_type": "code",
   "execution_count": 2,
   "metadata": {
    "collapsed": false
   },
   "outputs": [
    {
     "name": "stdout",
     "output_type": "stream",
     "text": [
      "np.ones(3, 4):\n",
      "[[ 1.  1.  1.  1.]\n",
      " [ 1.  1.  1.  1.]\n",
      " [ 1.  1.  1.  1.]]\n",
      "\n",
      "np.zeros(2, 5):\n",
      "[[ 0.  0.  0.  0.  0.]\n",
      " [ 0.  0.  0.  0.  0.]]\n",
      "\n",
      "np.arange(6):\n",
      "[0 1 2 3 4 5]\n",
      "\n",
      "np.arange(6).reshape(2, 3):\n",
      "[[0 1 2]\n",
      " [3 4 5]]\n",
      "\n",
      "b and b.T:\n",
      "[[6 7]\n",
      " [3 1]\n",
      " [4 0]]\n",
      "\n",
      "[[6 3 4]\n",
      " [7 1 0]]\n",
      "\n"
     ]
    }
   ],
   "source": [
    "# you can create an array of ones\n",
    "print 'np.ones(3, 4):'\n",
    "print np.ones((3, 4))\n",
    "print\n",
    "\n",
    "# you can create an array of zeros\n",
    "print 'np.zeros(2, 5):'\n",
    "print np.zeros((2, 5))\n",
    "print\n",
    "\n",
    "# you can create an array which of a range of numbers and reshape it\n",
    "print 'np.arange(6):'\n",
    "print np.arange(6)\n",
    "print \n",
    "print 'np.arange(6).reshape(2, 3):'\n",
    "print np.arange(6).reshape(2, 3)\n",
    "print\n",
    "\n",
    "# you can take the transpose of a matrix with .transpose or .T\n",
    "print 'b and b.T:'\n",
    "print b\n",
    "print \n",
    "print b.T\n",
    "print "
   ]
  },
  {
   "cell_type": "code",
   "execution_count": 3,
   "metadata": {
    "collapsed": false
   },
   "outputs": [
    {
     "name": "stdout",
     "output_type": "stream",
     "text": [
      "row 0 :  [6 7]\n",
      "row 1 :  [3 1]\n",
      "row 2 :  [4 0]\n",
      "\n",
      "first two rows of the first column of b:\n",
      "[6 3]\n",
      "\n"
     ]
    }
   ],
   "source": [
    "# you can iterate over rows\n",
    "i = 0\n",
    "for this_row in b:\n",
    "    print 'row', i, ': ', this_row\n",
    "    i += 1 \n",
    "print \n",
    "    \n",
    "# you can access sections of an array with slices\n",
    "print 'first two rows of the first column of b:'\n",
    "print b[:2, 0]\n",
    "print"
   ]
  },
  {
   "cell_type": "code",
   "execution_count": 4,
   "metadata": {
    "collapsed": false
   },
   "outputs": [
    {
     "name": "stdout",
     "output_type": "stream",
     "text": [
      "np.hstack([b, b]):\n",
      "[[6 7 6 7]\n",
      " [3 1 3 1]\n",
      " [4 0 4 0]]\n",
      "\n",
      "np.vstack([b, b]):\n",
      "[[6 7]\n",
      " [3 1]\n",
      " [4 0]\n",
      " [6 7]\n",
      " [3 1]\n",
      " [4 0]]\n",
      "\n"
     ]
    }
   ],
   "source": [
    "# you can concatenate arrays in various ways:\n",
    "print 'np.hstack([b, b]):'\n",
    "print np.hstack([b, b])\n",
    "print\n",
    "\n",
    "print 'np.vstack([b, b]):'\n",
    "print np.vstack([b, b])\n",
    "print"
   ]
  },
  {
   "cell_type": "code",
   "execution_count": 5,
   "metadata": {
    "collapsed": false
   },
   "outputs": [
    {
     "ename": "TypeError",
     "evalue": "hstack() takes exactly 1 argument (2 given)",
     "output_type": "error",
     "traceback": [
      "\u001b[0;31m---------------------------------------------------------------------------\u001b[0m",
      "\u001b[0;31mTypeError\u001b[0m                                 Traceback (most recent call last)",
      "\u001b[0;32m<ipython-input-5-93b42dec95f7>\u001b[0m in \u001b[0;36m<module>\u001b[0;34m()\u001b[0m\n\u001b[1;32m      1\u001b[0m \u001b[0;31m# note that you get an error if you pass in print 'np.hstack(b, b):'\u001b[0m\u001b[0;34m\u001b[0m\u001b[0;34m\u001b[0m\u001b[0m\n\u001b[0;32m----> 2\u001b[0;31m \u001b[0;32mprint\u001b[0m \u001b[0mnp\u001b[0m\u001b[0;34m.\u001b[0m\u001b[0mhstack\u001b[0m\u001b[0;34m(\u001b[0m\u001b[0mb\u001b[0m\u001b[0;34m,\u001b[0m \u001b[0mb\u001b[0m\u001b[0;34m)\u001b[0m\u001b[0;34m\u001b[0m\u001b[0m\n\u001b[0m\u001b[1;32m      3\u001b[0m \u001b[0;32mprint\u001b[0m\u001b[0;34m\u001b[0m\u001b[0m\n",
      "\u001b[0;31mTypeError\u001b[0m: hstack() takes exactly 1 argument (2 given)"
     ]
    }
   ],
   "source": [
    "# note that you get an error if you pass in print 'np.hstack(b, b):'\n",
    "print np.hstack(b, b)\n",
    "print\n"
   ]
  },
  {
   "cell_type": "code",
   "execution_count": 6,
   "metadata": {
    "collapsed": false
   },
   "outputs": [
    {
     "name": "stdout",
     "output_type": "stream",
     "text": [
      "c = np.dot(a, b):\n",
      "[42 11]\n",
      "\n",
      "a.dot(b):\n",
      "[42 11]\n",
      "\n",
      "d = b * b:\n",
      "[[36 49]\n",
      " [ 9  1]\n",
      " [16  0]]\n",
      "\n"
     ]
    },
    {
     "data": {
      "text/plain": [
       "array([42, 11])"
      ]
     },
     "execution_count": 6,
     "metadata": {},
     "output_type": "execute_result"
    }
   ],
   "source": [
    "# you can perform matrix multiplication with np.dot()\n",
    "c = np.dot(a, b)\n",
    "print 'c = np.dot(a, b):'\n",
    "print c\n",
    "print\n",
    "\n",
    "# if a is already a numpy array, then you can also use this chained \n",
    "# matrix multiplication notation.  use whichever looks cleaner in \n",
    "# context\n",
    "print 'a.dot(b):'\n",
    "print a.dot(b)\n",
    "print\n",
    "\n",
    "\n",
    "# you can perform element-wise multiplication with * \n",
    "d = b * b\n",
    "print 'd = b * b:'\n",
    "print d\n",
    "print\n",
    "\n",
    "a.dot(b)"
   ]
  },
  {
   "cell_type": "markdown",
   "metadata": {},
   "source": [
    "### Arrays and Matrices\n",
    "In addition to arrays which can have any number of dimensions, Numpy also has a `matrix` data type which always has exactly 2.  **DO NOT USE `matrix`**.  \n",
    "\n",
    "The original intention behind this data type was to make Numpy feel a bit more like Matlab, mainly by making the `*` operator perform matrix multiplication so you don't have to use `np.dot`.  But `matrix` isn't as well developed by the Numpy people as `array` is.  `matrix` is slower and using it will sometimes throw errors in other people's code because everyone expects you to use `array`."
   ]
  },
  {
   "cell_type": "code",
   "execution_count": 7,
   "metadata": {
    "collapsed": false
   },
   "outputs": [
    {
     "name": "stdout",
     "output_type": "stream",
     "text": [
      "a:\n",
      "[1 4 6]\n",
      "a.shape: (3,)\n",
      "\n",
      "a[np.newaxis] is a 2-d row vector:\n",
      "[[1 4 6]]\n",
      "a[np.newaxis].shape: (1, 3)\n",
      "\n",
      "a[np.newaxis].T: is a 2-d column vector:\n",
      "[[1]\n",
      " [4]\n",
      " [6]]\n",
      "a[np.newaxis].T.shape: (3, 1)\n",
      "\n"
     ]
    }
   ],
   "source": [
    "# you can convert a 1-d array to a 2-d array with np.newaxis\n",
    "print 'a:'\n",
    "print a\n",
    "print 'a.shape:', a.shape\n",
    "print \n",
    "print 'a[np.newaxis] is a 2-d row vector:'\n",
    "print a[np.newaxis]\n",
    "print 'a[np.newaxis].shape:', a[np.newaxis].shape\n",
    "print\n",
    "\n",
    "print 'a[np.newaxis].T: is a 2-d column vector:'\n",
    "print a[np.newaxis].T\n",
    "print 'a[np.newaxis].T.shape:', a[np.newaxis].T.shape\n",
    "print\n"
   ]
  },
  {
   "cell_type": "code",
   "execution_count": 8,
   "metadata": {
    "collapsed": false
   },
   "outputs": [
    {
     "name": "stdout",
     "output_type": "stream",
     "text": [
      "inverse of [[1, 2],[3, 4]]:\n",
      "[[-2.   1. ]\n",
      " [ 1.5 -0.5]]\n",
      "\n",
      "m.dot(m_inverse):\n",
      "[[  1.00000000e+00   0.00000000e+00]\n",
      " [  8.88178420e-16   1.00000000e+00]]\n"
     ]
    }
   ],
   "source": [
    "# numpy provides a ton of other functions for working with matrices\n",
    "m = np.array([[1, 2],[3, 4]])\n",
    "m_inverse = np.linalg.inv(m)\n",
    "print 'inverse of [[1, 2],[3, 4]]:'\n",
    "print m_inverse\n",
    "print\n",
    "\n",
    "print 'm.dot(m_inverse):'\n",
    "print m.dot(m_inverse)"
   ]
  },
  {
   "cell_type": "code",
   "execution_count": 9,
   "metadata": {
    "collapsed": false
   },
   "outputs": [
    {
     "name": "stdout",
     "output_type": "stream",
     "text": [
      "a matrix with random entries drawn from a Normal(0, 1) distribution:\n",
      "[[-0.70978938 -0.01719118  0.31941137 -2.26533107]\n",
      " [-1.37745366  1.94998073 -0.56381007 -0.84373759]\n",
      " [ 0.22453858 -0.39137772  0.60550347 -0.68615034]]\n"
     ]
    }
   ],
   "source": [
    "# and for doing all kinds of sciency type stuff.  like generating random numbers:\n",
    "np.random.seed(5678)\n",
    "n = np.random.randn(3, 4)\n",
    "print 'a matrix with random entries drawn from a Normal(0, 1) distribution:'\n",
    "print n"
   ]
  },
  {
   "cell_type": "markdown",
   "metadata": {},
   "source": [
    "### <span style=\"color:red\">Self-Driven Numpy Exercise</span>\n",
    "1. In the cell below, add a column of ones to the matrix `X_no_constant`.  This is a common task in linear regression and general linear modeling and something that you'll have to be able to do later today.  \n",
    "1. Multiply your new matrix by the `betas` vector below to make a vector called `y`\n",
    "1. You'll know you've got it when the cell prints '\\*\\*\\*\\*\\*\\* Tests passed! \\*\\*\\*\\*\\*\\*' at the bottom.\n",
    "\n",
    "Specificically, given a matrix:\n",
    "\n",
    "\\begin{equation*}\n",
    "\\qquad\n",
    "\\mathbf{X_{NoConstant}} = \n",
    "\\left( \\begin{array}{ccc}\n",
    "x_{1,1} & x_{1,2} & \\dots & x_{1,D} \\\\\n",
    "x_{2,1} & x_{2,2} & \\dots & x_{2,D} \\\\\n",
    "\\vdots & \\vdots & \\ddots & \\vdots \\\\\n",
    "x_{i,1} & x_{i,2} & \\dots & x_{i,D} \\\\\n",
    "\\vdots & \\vdots & \\ddots & \\vdots \\\\\n",
    "x_{N,1} & x_{N,2} & \\dots & x_{N,D} \\\\\n",
    "\\end{array} \\right)\n",
    "\\qquad\n",
    "\\end{equation*}\n",
    "\n",
    "We want to convert it to:\n",
    "\\begin{equation*}\n",
    "\\qquad\n",
    "\\mathbf{X} = \n",
    "\\left( \\begin{array}{ccc}\n",
    "1 & x_{1,1} & x_{1,2} & \\dots & x_{1,D} \\\\\n",
    "1 & x_{2,1} & x_{2,2} & \\dots & x_{2,D} \\\\\n",
    "\\vdots & \\vdots & \\vdots & \\ddots & \\vdots \\\\\n",
    "1 & x_{i,1} & x_{i,2} & \\dots & x_{i,D} \\\\\n",
    "\\vdots & \\vdots & \\ddots & \\vdots \\\\\n",
    "1 & x_{N,1} & x_{N,2} & \\dots & x_{N,D} \\\\\n",
    "\\end{array} \\right)\n",
    "\\qquad\n",
    "\\end{equation*}\n",
    "\n",
    "So that if we have a vector of regression coefficients like this:\n",
    "\n",
    "\\begin{equation*}\n",
    "\\qquad\n",
    "\\beta = \\left( \\begin{array}{ccc}\n",
    "\\beta_0 \\\\\n",
    "\\beta_1 \\\\\n",
    "\\vdots \\\\\n",
    "\\beta_j \\\\\n",
    "\\vdots \\\\\n",
    "\\beta_D\n",
    "\\end{array} \\right)\n",
    "\\end{equation*}\n",
    "\n",
    "We can do this:\n",
    "\n",
    "\\begin{equation*}\n",
    "\\mathbf{y} \\equiv \\mathbf{X} \\mathbf{\\beta} \n",
    "\\end{equation*}\n"
   ]
  },
  {
   "cell_type": "code",
   "execution_count": 14,
   "metadata": {
    "collapsed": false
   },
   "outputs": [
    {
     "data": {
      "text/plain": [
       "array([[ 1.],\n",
       "       [ 1.],\n",
       "       [ 1.],\n",
       "       [ 1.],\n",
       "       [ 1.],\n",
       "       [ 1.],\n",
       "       [ 1.],\n",
       "       [ 1.],\n",
       "       [ 1.],\n",
       "       [ 1.]])"
      ]
     },
     "execution_count": 14,
     "metadata": {},
     "output_type": "execute_result"
    }
   ],
   "source": [
    "a = np.ones(n_data)[np.newaxis].T\n",
    "a"
   ]
  },
  {
   "cell_type": "code",
   "execution_count": 16,
   "metadata": {
    "collapsed": false
   },
   "outputs": [
    {
     "name": "stdout",
     "output_type": "stream",
     "text": [
      "X_no_constant:\n",
      "[[-0.92232935  0.27352359 -0.86339625  1.43766044 -1.71379871]\n",
      " [ 0.179322   -0.89138595  2.13005603  0.51898975 -0.41875106]\n",
      " [ 0.34010119 -1.07736609 -1.02314142 -1.02518535  0.40972072]\n",
      " [ 1.18883814  1.01044759  0.3108216  -1.17868611 -0.49526331]\n",
      " [-1.50248369 -0.196458    0.34752922 -0.79200465 -0.31534705]\n",
      " [ 1.73245191 -1.42793626 -0.94376587  0.86823495 -0.95946769]\n",
      " [-1.07074604 -0.06555247 -2.17689578  1.58538804  1.81492637]\n",
      " [-0.73706088  0.77546031  0.42653908 -0.51853723 -0.53045538]\n",
      " [ 1.09620536 -0.69557321  0.03080082  0.25219596 -0.35304303]\n",
      " [-0.93971165  0.04448078  0.04273069  0.4961477  -1.7673568 ]]\n",
      "\n",
      "****** Tests passed! ******\n"
     ]
    }
   ],
   "source": [
    "np.random.seed(3333)\n",
    "n_data = 10 # number of data points. i.e. N\n",
    "n_dim = 5   # number of dimensions of each datapoint.  i.e. D\n",
    "\n",
    "betas = np.random.randn(n_dim + 1)\n",
    "\n",
    "X_no_constant = np.random.randn(n_data, n_dim)\n",
    "print 'X_no_constant:'\n",
    "print X_no_constant\n",
    "print \n",
    "\n",
    "# INSERT YOUR CODE HERE!\n",
    "X = np.hstack([np.ones(n_data)[np.newaxis].T, X_no_constant])\n",
    "y = np.dot(X, betas)\n",
    "\n",
    "# Tests:\n",
    "y_expected = np.array([-0.41518357, -9.34696153, 5.08980544, \n",
    "                       -0.26983873, -1.47667864, 1.96580794, \n",
    "                       6.87009791, -2.07784135, -0.7726816, \n",
    "                       -2.74954984])\n",
    "np.testing.assert_allclose(y, y_expected)\n",
    "print '****** Tests passed! ******'"
   ]
  },
  {
   "cell_type": "markdown",
   "metadata": {
    "collapsed": true
   },
   "source": [
    "## Pandas\n",
    "Pandas is a python package which adds some useful data analysis features to numpy arrays.  Most importantly, it contains a `DataFrame` data type like the r `dataframe`: a set of named columns organized into something like a 2d array.  Pandas is great.\n",
    "\n",
    "### Resources:\n",
    "* [10 Minutes to Pandas](http://pandas.pydata.org/pandas-docs/dev/10min.html)\n",
    "* [Pandas Data Structures Tutorial](http://pandas.pydata.org/pandas-docs/stable/dsintro.html)\n",
    "* [Merge, Join, Concatenate Tutorial](http://pandas.pydata.org/pandas-docs/dev/merging.html)\n",
    "* [Another Numpy/Pandas Tutorial](https://www.kaggle.com/c/titanic/details/getting-started-with-python-ii)"
   ]
  },
  {
   "cell_type": "code",
   "execution_count": 19,
   "metadata": {
    "collapsed": false
   },
   "outputs": [
    {
     "name": "stdout",
     "output_type": "stream",
     "text": [
      "b:\n",
      "[[6 7]\n",
      " [3 1]\n",
      " [4 0]]\n",
      "\n",
      "DataFame version of b:\n",
      "   Weight  Height\n",
      "0       6       7\n",
      "1       3       1\n",
      "2       4       0\n",
      "\n"
     ]
    }
   ],
   "source": [
    "# like with numpy, you don't have to rename pandas to pd, but it's customary to do so\n",
    "import pandas as pd\n",
    "\n",
    "b = np.array([[6, 7], [3, 1], [4, 0]])\n",
    "df = pd.DataFrame(data=b,  columns=['Weight', 'Height'])\n",
    "print 'b:'\n",
    "print b\n",
    "print \n",
    "print 'DataFame version of b:'\n",
    "print df\n",
    "print"
   ]
  },
  {
   "cell_type": "code",
   "execution_count": 20,
   "metadata": {
    "collapsed": false
   },
   "outputs": [
    {
     "data": {
      "text/html": [
       "<div>\n",
       "<table border=\"1\" class=\"dataframe\">\n",
       "  <thead>\n",
       "    <tr style=\"text-align: right;\">\n",
       "      <th></th>\n",
       "      <th>Salary</th>\n",
       "      <th>AVG</th>\n",
       "      <th>OBP</th>\n",
       "      <th>Runs</th>\n",
       "      <th>Hits</th>\n",
       "      <th>Doubles</th>\n",
       "      <th>Triples</th>\n",
       "      <th>HR</th>\n",
       "      <th>RBI</th>\n",
       "      <th>Walks</th>\n",
       "      <th>SO</th>\n",
       "      <th>SB</th>\n",
       "      <th>Errs</th>\n",
       "      <th>free agency eligibility</th>\n",
       "      <th>free agent in 1991/2</th>\n",
       "      <th>arbitration eligibility</th>\n",
       "      <th>arbitration in 1991/2</th>\n",
       "      <th>Name</th>\n",
       "    </tr>\n",
       "  </thead>\n",
       "  <tbody>\n",
       "    <tr>\n",
       "      <th>0</th>\n",
       "      <td>3300</td>\n",
       "      <td>0.272</td>\n",
       "      <td>0.302</td>\n",
       "      <td>69</td>\n",
       "      <td>153</td>\n",
       "      <td>21</td>\n",
       "      <td>4</td>\n",
       "      <td>31</td>\n",
       "      <td>104</td>\n",
       "      <td>22</td>\n",
       "      <td>80</td>\n",
       "      <td>4</td>\n",
       "      <td>3</td>\n",
       "      <td>1</td>\n",
       "      <td>0</td>\n",
       "      <td>0</td>\n",
       "      <td>0</td>\n",
       "      <td>Andre Dawson</td>\n",
       "    </tr>\n",
       "    <tr>\n",
       "      <th>1</th>\n",
       "      <td>2600</td>\n",
       "      <td>0.269</td>\n",
       "      <td>0.335</td>\n",
       "      <td>58</td>\n",
       "      <td>111</td>\n",
       "      <td>17</td>\n",
       "      <td>2</td>\n",
       "      <td>18</td>\n",
       "      <td>66</td>\n",
       "      <td>39</td>\n",
       "      <td>69</td>\n",
       "      <td>0</td>\n",
       "      <td>3</td>\n",
       "      <td>1</td>\n",
       "      <td>1</td>\n",
       "      <td>0</td>\n",
       "      <td>0</td>\n",
       "      <td>Steve Buchele</td>\n",
       "    </tr>\n",
       "    <tr>\n",
       "      <th>2</th>\n",
       "      <td>2500</td>\n",
       "      <td>0.249</td>\n",
       "      <td>0.337</td>\n",
       "      <td>54</td>\n",
       "      <td>115</td>\n",
       "      <td>15</td>\n",
       "      <td>1</td>\n",
       "      <td>17</td>\n",
       "      <td>73</td>\n",
       "      <td>63</td>\n",
       "      <td>116</td>\n",
       "      <td>6</td>\n",
       "      <td>5</td>\n",
       "      <td>1</td>\n",
       "      <td>0</td>\n",
       "      <td>0</td>\n",
       "      <td>0</td>\n",
       "      <td>Kal Daniels</td>\n",
       "    </tr>\n",
       "    <tr>\n",
       "      <th>3</th>\n",
       "      <td>2475</td>\n",
       "      <td>0.260</td>\n",
       "      <td>0.292</td>\n",
       "      <td>59</td>\n",
       "      <td>128</td>\n",
       "      <td>22</td>\n",
       "      <td>7</td>\n",
       "      <td>12</td>\n",
       "      <td>50</td>\n",
       "      <td>23</td>\n",
       "      <td>64</td>\n",
       "      <td>21</td>\n",
       "      <td>21</td>\n",
       "      <td>0</td>\n",
       "      <td>0</td>\n",
       "      <td>1</td>\n",
       "      <td>0</td>\n",
       "      <td>Shawon Dunston</td>\n",
       "    </tr>\n",
       "    <tr>\n",
       "      <th>4</th>\n",
       "      <td>2313</td>\n",
       "      <td>0.273</td>\n",
       "      <td>0.346</td>\n",
       "      <td>87</td>\n",
       "      <td>169</td>\n",
       "      <td>28</td>\n",
       "      <td>5</td>\n",
       "      <td>8</td>\n",
       "      <td>58</td>\n",
       "      <td>70</td>\n",
       "      <td>53</td>\n",
       "      <td>3</td>\n",
       "      <td>8</td>\n",
       "      <td>0</td>\n",
       "      <td>0</td>\n",
       "      <td>1</td>\n",
       "      <td>0</td>\n",
       "      <td>Mark Grace</td>\n",
       "    </tr>\n",
       "  </tbody>\n",
       "</table>\n",
       "</div>"
      ],
      "text/plain": [
       "   Salary    AVG    OBP  Runs  Hits  Doubles  Triples  HR  RBI  Walks   SO  \\\n",
       "0    3300  0.272  0.302    69   153       21        4  31  104     22   80   \n",
       "1    2600  0.269  0.335    58   111       17        2  18   66     39   69   \n",
       "2    2500  0.249  0.337    54   115       15        1  17   73     63  116   \n",
       "3    2475  0.260  0.292    59   128       22        7  12   50     23   64   \n",
       "4    2313  0.273  0.346    87   169       28        5   8   58     70   53   \n",
       "\n",
       "   SB  Errs  free agency eligibility  free agent in 1991/2  \\\n",
       "0   4     3                        1                     0   \n",
       "1   0     3                        1                     1   \n",
       "2   6     5                        1                     0   \n",
       "3  21    21                        0                     0   \n",
       "4   3     8                        0                     0   \n",
       "\n",
       "   arbitration eligibility  arbitration in 1991/2            Name  \n",
       "0                        0                      0    Andre Dawson  \n",
       "1                        0                      0   Steve Buchele  \n",
       "2                        0                      0     Kal Daniels  \n",
       "3                        1                      0  Shawon Dunston  \n",
       "4                        1                      0      Mark Grace  "
      ]
     },
     "execution_count": 20,
     "metadata": {},
     "output_type": "execute_result"
    }
   ],
   "source": [
    "# Pandas can save and load CSV files.  \n",
    "# Python can do this too, but with Pandas, you get a DataFrame \n",
    "# at the end which understands things like column headings\n",
    "baseball = pd.read_csv('data/baseball.dat.txt')\n",
    "\n",
    "# A Dataframe's .head() method shows its first 5 rows\n",
    "baseball.head()"
   ]
  },
  {
   "cell_type": "code",
   "execution_count": 22,
   "metadata": {
    "collapsed": false,
    "scrolled": false
   },
   "outputs": [
    {
     "name": "stdout",
     "output_type": "stream",
     "text": [
      "baseball.keys():\n",
      "Index([u'Salary', u'AVG', u'OBP', u'Runs', u'Hits', u'Doubles', u'Triples',\n",
      "       u'HR', u'RBI', u'Walks', u'SO', u'SB', u'Errs',\n",
      "       u'free agency eligibility', u'free agent in 1991/2',\n",
      "       u'arbitration eligibility', u'arbitration in 1991/2', u'Name'],\n",
      "      dtype='object')\n",
      "\n"
     ]
    }
   ],
   "source": [
    "# you can see all the column names\n",
    "print 'baseball.keys():'\n",
    "print baseball.keys()\n",
    "print\n",
    "\n",
    "# print 'baseball.Salary:'\n",
    "# print baseball.Salary\n",
    "# print \n",
    "# print \"baseball['Salary']:\"\n",
    "# print baseball['Salary']"
   ]
  },
  {
   "cell_type": "code",
   "execution_count": 23,
   "metadata": {
    "collapsed": false,
    "scrolled": true
   },
   "outputs": [
    {
     "name": "stdout",
     "output_type": "stream",
     "text": [
      "<class 'pandas.core.frame.DataFrame'>\n",
      "RangeIndex: 337 entries, 0 to 336\n",
      "Data columns (total 18 columns):\n",
      "Salary                     337 non-null int64\n",
      "AVG                        337 non-null float64\n",
      "OBP                        337 non-null float64\n",
      "Runs                       337 non-null int64\n",
      "Hits                       337 non-null int64\n",
      "Doubles                    337 non-null int64\n",
      "Triples                    337 non-null int64\n",
      "HR                         337 non-null int64\n",
      "RBI                        337 non-null int64\n",
      "Walks                      337 non-null int64\n",
      "SO                         337 non-null int64\n",
      "SB                         337 non-null int64\n",
      "Errs                       337 non-null int64\n",
      "free agency eligibility    337 non-null int64\n",
      "free agent in 1991/2       337 non-null int64\n",
      "arbitration eligibility    337 non-null int64\n",
      "arbitration in 1991/2      337 non-null int64\n",
      "Name                       337 non-null object\n",
      "dtypes: float64(2), int64(15), object(1)\n",
      "memory usage: 47.5+ KB\n"
     ]
    }
   ],
   "source": [
    "baseball.info()"
   ]
  },
  {
   "cell_type": "code",
   "execution_count": 24,
   "metadata": {
    "collapsed": false
   },
   "outputs": [
    {
     "data": {
      "text/html": [
       "<div>\n",
       "<table border=\"1\" class=\"dataframe\">\n",
       "  <thead>\n",
       "    <tr style=\"text-align: right;\">\n",
       "      <th></th>\n",
       "      <th>Salary</th>\n",
       "      <th>AVG</th>\n",
       "      <th>OBP</th>\n",
       "      <th>Runs</th>\n",
       "      <th>Hits</th>\n",
       "      <th>Doubles</th>\n",
       "      <th>Triples</th>\n",
       "      <th>HR</th>\n",
       "      <th>RBI</th>\n",
       "      <th>Walks</th>\n",
       "      <th>SO</th>\n",
       "      <th>SB</th>\n",
       "      <th>Errs</th>\n",
       "      <th>free agency eligibility</th>\n",
       "      <th>free agent in 1991/2</th>\n",
       "      <th>arbitration eligibility</th>\n",
       "      <th>arbitration in 1991/2</th>\n",
       "    </tr>\n",
       "  </thead>\n",
       "  <tbody>\n",
       "    <tr>\n",
       "      <th>count</th>\n",
       "      <td>337.000000</td>\n",
       "      <td>337.000000</td>\n",
       "      <td>337.000000</td>\n",
       "      <td>337.000000</td>\n",
       "      <td>337.000000</td>\n",
       "      <td>337.000000</td>\n",
       "      <td>337.000000</td>\n",
       "      <td>337.000000</td>\n",
       "      <td>337.000000</td>\n",
       "      <td>337.000000</td>\n",
       "      <td>337.000000</td>\n",
       "      <td>337.000000</td>\n",
       "      <td>337.000000</td>\n",
       "      <td>337.000000</td>\n",
       "      <td>337.000000</td>\n",
       "      <td>337.000000</td>\n",
       "      <td>337.000000</td>\n",
       "    </tr>\n",
       "    <tr>\n",
       "      <th>mean</th>\n",
       "      <td>1248.528190</td>\n",
       "      <td>0.257825</td>\n",
       "      <td>0.323973</td>\n",
       "      <td>46.697329</td>\n",
       "      <td>92.833828</td>\n",
       "      <td>16.673591</td>\n",
       "      <td>2.338279</td>\n",
       "      <td>9.097923</td>\n",
       "      <td>44.020772</td>\n",
       "      <td>35.017804</td>\n",
       "      <td>56.706231</td>\n",
       "      <td>8.246291</td>\n",
       "      <td>6.771513</td>\n",
       "      <td>0.397626</td>\n",
       "      <td>0.115727</td>\n",
       "      <td>0.192878</td>\n",
       "      <td>0.029674</td>\n",
       "    </tr>\n",
       "    <tr>\n",
       "      <th>std</th>\n",
       "      <td>1240.013309</td>\n",
       "      <td>0.039546</td>\n",
       "      <td>0.047132</td>\n",
       "      <td>29.020166</td>\n",
       "      <td>51.896322</td>\n",
       "      <td>10.452001</td>\n",
       "      <td>2.543336</td>\n",
       "      <td>9.289934</td>\n",
       "      <td>29.559406</td>\n",
       "      <td>24.842474</td>\n",
       "      <td>33.828784</td>\n",
       "      <td>11.664782</td>\n",
       "      <td>5.927490</td>\n",
       "      <td>0.490135</td>\n",
       "      <td>0.320373</td>\n",
       "      <td>0.395145</td>\n",
       "      <td>0.169938</td>\n",
       "    </tr>\n",
       "    <tr>\n",
       "      <th>min</th>\n",
       "      <td>109.000000</td>\n",
       "      <td>0.063000</td>\n",
       "      <td>0.063000</td>\n",
       "      <td>0.000000</td>\n",
       "      <td>1.000000</td>\n",
       "      <td>0.000000</td>\n",
       "      <td>0.000000</td>\n",
       "      <td>0.000000</td>\n",
       "      <td>0.000000</td>\n",
       "      <td>0.000000</td>\n",
       "      <td>1.000000</td>\n",
       "      <td>0.000000</td>\n",
       "      <td>0.000000</td>\n",
       "      <td>0.000000</td>\n",
       "      <td>0.000000</td>\n",
       "      <td>0.000000</td>\n",
       "      <td>0.000000</td>\n",
       "    </tr>\n",
       "    <tr>\n",
       "      <th>25%</th>\n",
       "      <td>230.000000</td>\n",
       "      <td>0.238000</td>\n",
       "      <td>0.297000</td>\n",
       "      <td>22.000000</td>\n",
       "      <td>51.000000</td>\n",
       "      <td>9.000000</td>\n",
       "      <td>0.000000</td>\n",
       "      <td>2.000000</td>\n",
       "      <td>21.000000</td>\n",
       "      <td>15.000000</td>\n",
       "      <td>31.000000</td>\n",
       "      <td>1.000000</td>\n",
       "      <td>3.000000</td>\n",
       "      <td>0.000000</td>\n",
       "      <td>0.000000</td>\n",
       "      <td>0.000000</td>\n",
       "      <td>0.000000</td>\n",
       "    </tr>\n",
       "    <tr>\n",
       "      <th>50%</th>\n",
       "      <td>740.000000</td>\n",
       "      <td>0.260000</td>\n",
       "      <td>0.323000</td>\n",
       "      <td>41.000000</td>\n",
       "      <td>91.000000</td>\n",
       "      <td>15.000000</td>\n",
       "      <td>2.000000</td>\n",
       "      <td>6.000000</td>\n",
       "      <td>39.000000</td>\n",
       "      <td>30.000000</td>\n",
       "      <td>49.000000</td>\n",
       "      <td>4.000000</td>\n",
       "      <td>5.000000</td>\n",
       "      <td>0.000000</td>\n",
       "      <td>0.000000</td>\n",
       "      <td>0.000000</td>\n",
       "      <td>0.000000</td>\n",
       "    </tr>\n",
       "    <tr>\n",
       "      <th>75%</th>\n",
       "      <td>2150.000000</td>\n",
       "      <td>0.281000</td>\n",
       "      <td>0.354000</td>\n",
       "      <td>69.000000</td>\n",
       "      <td>136.000000</td>\n",
       "      <td>23.000000</td>\n",
       "      <td>3.000000</td>\n",
       "      <td>15.000000</td>\n",
       "      <td>66.000000</td>\n",
       "      <td>49.000000</td>\n",
       "      <td>78.000000</td>\n",
       "      <td>11.000000</td>\n",
       "      <td>9.000000</td>\n",
       "      <td>1.000000</td>\n",
       "      <td>0.000000</td>\n",
       "      <td>0.000000</td>\n",
       "      <td>0.000000</td>\n",
       "    </tr>\n",
       "    <tr>\n",
       "      <th>max</th>\n",
       "      <td>6100.000000</td>\n",
       "      <td>0.457000</td>\n",
       "      <td>0.486000</td>\n",
       "      <td>133.000000</td>\n",
       "      <td>216.000000</td>\n",
       "      <td>49.000000</td>\n",
       "      <td>15.000000</td>\n",
       "      <td>44.000000</td>\n",
       "      <td>133.000000</td>\n",
       "      <td>138.000000</td>\n",
       "      <td>175.000000</td>\n",
       "      <td>76.000000</td>\n",
       "      <td>31.000000</td>\n",
       "      <td>1.000000</td>\n",
       "      <td>1.000000</td>\n",
       "      <td>1.000000</td>\n",
       "      <td>1.000000</td>\n",
       "    </tr>\n",
       "  </tbody>\n",
       "</table>\n",
       "</div>"
      ],
      "text/plain": [
       "            Salary         AVG         OBP        Runs        Hits  \\\n",
       "count   337.000000  337.000000  337.000000  337.000000  337.000000   \n",
       "mean   1248.528190    0.257825    0.323973   46.697329   92.833828   \n",
       "std    1240.013309    0.039546    0.047132   29.020166   51.896322   \n",
       "min     109.000000    0.063000    0.063000    0.000000    1.000000   \n",
       "25%     230.000000    0.238000    0.297000   22.000000   51.000000   \n",
       "50%     740.000000    0.260000    0.323000   41.000000   91.000000   \n",
       "75%    2150.000000    0.281000    0.354000   69.000000  136.000000   \n",
       "max    6100.000000    0.457000    0.486000  133.000000  216.000000   \n",
       "\n",
       "          Doubles     Triples          HR         RBI       Walks          SO  \\\n",
       "count  337.000000  337.000000  337.000000  337.000000  337.000000  337.000000   \n",
       "mean    16.673591    2.338279    9.097923   44.020772   35.017804   56.706231   \n",
       "std     10.452001    2.543336    9.289934   29.559406   24.842474   33.828784   \n",
       "min      0.000000    0.000000    0.000000    0.000000    0.000000    1.000000   \n",
       "25%      9.000000    0.000000    2.000000   21.000000   15.000000   31.000000   \n",
       "50%     15.000000    2.000000    6.000000   39.000000   30.000000   49.000000   \n",
       "75%     23.000000    3.000000   15.000000   66.000000   49.000000   78.000000   \n",
       "max     49.000000   15.000000   44.000000  133.000000  138.000000  175.000000   \n",
       "\n",
       "               SB        Errs  free agency eligibility  free agent in 1991/2  \\\n",
       "count  337.000000  337.000000               337.000000            337.000000   \n",
       "mean     8.246291    6.771513                 0.397626              0.115727   \n",
       "std     11.664782    5.927490                 0.490135              0.320373   \n",
       "min      0.000000    0.000000                 0.000000              0.000000   \n",
       "25%      1.000000    3.000000                 0.000000              0.000000   \n",
       "50%      4.000000    5.000000                 0.000000              0.000000   \n",
       "75%     11.000000    9.000000                 1.000000              0.000000   \n",
       "max     76.000000   31.000000                 1.000000              1.000000   \n",
       "\n",
       "       arbitration eligibility  arbitration in 1991/2  \n",
       "count               337.000000             337.000000  \n",
       "mean                  0.192878               0.029674  \n",
       "std                   0.395145               0.169938  \n",
       "min                   0.000000               0.000000  \n",
       "25%                   0.000000               0.000000  \n",
       "50%                   0.000000               0.000000  \n",
       "75%                   0.000000               0.000000  \n",
       "max                   1.000000               1.000000  "
      ]
     },
     "execution_count": 24,
     "metadata": {},
     "output_type": "execute_result"
    }
   ],
   "source": [
    "baseball.describe()"
   ]
  },
  {
   "cell_type": "code",
   "execution_count": 26,
   "metadata": {
    "collapsed": false
   },
   "outputs": [],
   "source": [
    "#  baseball"
   ]
  },
  {
   "cell_type": "code",
   "execution_count": 34,
   "metadata": {
    "collapsed": false
   },
   "outputs": [],
   "source": [
    "# You can perform queries on your data frame.  \n",
    "# This statement gives you a True/False vector telling you \n",
    "# whether the player in each row has a salary over $1 Million\n",
    "millionaire_indices = baseball['Salary'] > 1000\n",
    "# print millionaire_indices"
   ]
  },
  {
   "cell_type": "code",
   "execution_count": 28,
   "metadata": {
    "collapsed": false
   },
   "outputs": [
    {
     "name": "stdout",
     "output_type": "stream",
     "text": [
      "baseball.shape: (337, 18)\n",
      "baseball[millionaire_indices].shape: (139, 18)\n"
     ]
    }
   ],
   "source": [
    "# you can use the query indices to look at a subset of your original dataframe\n",
    "print 'baseball.shape:', baseball.shape\n",
    "print \"baseball[millionaire_indices].shape:\", baseball[millionaire_indices].shape"
   ]
  },
  {
   "cell_type": "code",
   "execution_count": 33,
   "metadata": {
    "collapsed": false,
    "scrolled": false
   },
   "outputs": [
    {
     "name": "stdout",
     "output_type": "stream",
     "text": [
      "baseball[millionaire_indices][['Salary', 'AVG', 'Runs', 'Name']]:\n"
     ]
    },
    {
     "data": {
      "text/html": [
       "<div>\n",
       "<table border=\"1\" class=\"dataframe\">\n",
       "  <thead>\n",
       "    <tr style=\"text-align: right;\">\n",
       "      <th></th>\n",
       "      <th>Salary</th>\n",
       "      <th>AVG</th>\n",
       "      <th>Runs</th>\n",
       "      <th>Name</th>\n",
       "    </tr>\n",
       "  </thead>\n",
       "  <tbody>\n",
       "    <tr>\n",
       "      <th>0</th>\n",
       "      <td>3300</td>\n",
       "      <td>0.272</td>\n",
       "      <td>69</td>\n",
       "      <td>Andre Dawson</td>\n",
       "    </tr>\n",
       "    <tr>\n",
       "      <th>1</th>\n",
       "      <td>2600</td>\n",
       "      <td>0.269</td>\n",
       "      <td>58</td>\n",
       "      <td>Steve Buchele</td>\n",
       "    </tr>\n",
       "    <tr>\n",
       "      <th>2</th>\n",
       "      <td>2500</td>\n",
       "      <td>0.249</td>\n",
       "      <td>54</td>\n",
       "      <td>Kal Daniels</td>\n",
       "    </tr>\n",
       "    <tr>\n",
       "      <th>3</th>\n",
       "      <td>2475</td>\n",
       "      <td>0.260</td>\n",
       "      <td>59</td>\n",
       "      <td>Shawon Dunston</td>\n",
       "    </tr>\n",
       "    <tr>\n",
       "      <th>4</th>\n",
       "      <td>2313</td>\n",
       "      <td>0.273</td>\n",
       "      <td>87</td>\n",
       "      <td>Mark Grace</td>\n",
       "    </tr>\n",
       "  </tbody>\n",
       "</table>\n",
       "</div>"
      ],
      "text/plain": [
       "   Salary    AVG  Runs            Name\n",
       "0    3300  0.272    69    Andre Dawson\n",
       "1    2600  0.269    58   Steve Buchele\n",
       "2    2500  0.249    54     Kal Daniels\n",
       "3    2475  0.260    59  Shawon Dunston\n",
       "4    2313  0.273    87      Mark Grace"
      ]
     },
     "execution_count": 33,
     "metadata": {},
     "output_type": "execute_result"
    }
   ],
   "source": [
    "# you can look at a subset of rows and columns at the same time\n",
    "print \"baseball[millionaire_indices][['Salary', 'AVG', 'Runs', 'Name']]:\"\n",
    "baseball[millionaire_indices][['Salary', 'AVG', 'Runs', 'Name']].head()"
   ]
  },
  {
   "cell_type": "markdown",
   "metadata": {},
   "source": [
    "## Pandas Joins - If you have time\n",
    "The real magic with a Pandas DataFrame comes from the merge method which can match up the rows and columns from two DataFrames and combine their data.  Let's load another file which has shoesize for just a few players"
   ]
  },
  {
   "cell_type": "code",
   "execution_count": 30,
   "metadata": {
    "collapsed": false
   },
   "outputs": [
    {
     "data": {
      "text/html": [
       "<div>\n",
       "<table border=\"1\" class=\"dataframe\">\n",
       "  <thead>\n",
       "    <tr style=\"text-align: right;\">\n",
       "      <th></th>\n",
       "      <th>Shoe Size</th>\n",
       "      <th>Name</th>\n",
       "    </tr>\n",
       "  </thead>\n",
       "  <tbody>\n",
       "    <tr>\n",
       "      <th>0</th>\n",
       "      <td>11</td>\n",
       "      <td>Andre Dawson</td>\n",
       "    </tr>\n",
       "    <tr>\n",
       "      <th>1</th>\n",
       "      <td>13</td>\n",
       "      <td>Mark Grace</td>\n",
       "    </tr>\n",
       "    <tr>\n",
       "      <th>2</th>\n",
       "      <td>12</td>\n",
       "      <td>Sammy Sosa</td>\n",
       "    </tr>\n",
       "  </tbody>\n",
       "</table>\n",
       "</div>"
      ],
      "text/plain": [
       "   Shoe Size          Name\n",
       "0         11  Andre Dawson\n",
       "1         13    Mark Grace\n",
       "2         12    Sammy Sosa"
      ]
     },
     "execution_count": 30,
     "metadata": {},
     "output_type": "execute_result"
    }
   ],
   "source": [
    "# load shoe size data\n",
    "shoe_size_df = pd.read_csv('data/baseball2.dat.txt')\n",
    "shoe_size_df"
   ]
  },
  {
   "cell_type": "code",
   "execution_count": 31,
   "metadata": {
    "collapsed": false
   },
   "outputs": [
    {
     "data": {
      "text/html": [
       "<div>\n",
       "<table border=\"1\" class=\"dataframe\">\n",
       "  <thead>\n",
       "    <tr style=\"text-align: right;\">\n",
       "      <th></th>\n",
       "      <th>Salary</th>\n",
       "      <th>AVG</th>\n",
       "      <th>OBP</th>\n",
       "      <th>Runs</th>\n",
       "      <th>Hits</th>\n",
       "      <th>Doubles</th>\n",
       "      <th>Triples</th>\n",
       "      <th>HR</th>\n",
       "      <th>RBI</th>\n",
       "      <th>Walks</th>\n",
       "      <th>SO</th>\n",
       "      <th>SB</th>\n",
       "      <th>Errs</th>\n",
       "      <th>free agency eligibility</th>\n",
       "      <th>free agent in 1991/2</th>\n",
       "      <th>arbitration eligibility</th>\n",
       "      <th>arbitration in 1991/2</th>\n",
       "      <th>Name</th>\n",
       "      <th>Shoe Size</th>\n",
       "    </tr>\n",
       "  </thead>\n",
       "  <tbody>\n",
       "    <tr>\n",
       "      <th>0</th>\n",
       "      <td>3300</td>\n",
       "      <td>0.272</td>\n",
       "      <td>0.302</td>\n",
       "      <td>69</td>\n",
       "      <td>153</td>\n",
       "      <td>21</td>\n",
       "      <td>4</td>\n",
       "      <td>31</td>\n",
       "      <td>104</td>\n",
       "      <td>22</td>\n",
       "      <td>80</td>\n",
       "      <td>4</td>\n",
       "      <td>3</td>\n",
       "      <td>1</td>\n",
       "      <td>0</td>\n",
       "      <td>0</td>\n",
       "      <td>0</td>\n",
       "      <td>Andre Dawson</td>\n",
       "      <td>11</td>\n",
       "    </tr>\n",
       "    <tr>\n",
       "      <th>1</th>\n",
       "      <td>2313</td>\n",
       "      <td>0.273</td>\n",
       "      <td>0.346</td>\n",
       "      <td>87</td>\n",
       "      <td>169</td>\n",
       "      <td>28</td>\n",
       "      <td>5</td>\n",
       "      <td>8</td>\n",
       "      <td>58</td>\n",
       "      <td>70</td>\n",
       "      <td>53</td>\n",
       "      <td>3</td>\n",
       "      <td>8</td>\n",
       "      <td>0</td>\n",
       "      <td>0</td>\n",
       "      <td>1</td>\n",
       "      <td>0</td>\n",
       "      <td>Mark Grace</td>\n",
       "      <td>13</td>\n",
       "    </tr>\n",
       "    <tr>\n",
       "      <th>2</th>\n",
       "      <td>200</td>\n",
       "      <td>0.203</td>\n",
       "      <td>0.240</td>\n",
       "      <td>39</td>\n",
       "      <td>64</td>\n",
       "      <td>10</td>\n",
       "      <td>1</td>\n",
       "      <td>10</td>\n",
       "      <td>33</td>\n",
       "      <td>14</td>\n",
       "      <td>96</td>\n",
       "      <td>13</td>\n",
       "      <td>6</td>\n",
       "      <td>0</td>\n",
       "      <td>0</td>\n",
       "      <td>0</td>\n",
       "      <td>0</td>\n",
       "      <td>Sammy Sosa</td>\n",
       "      <td>12</td>\n",
       "    </tr>\n",
       "  </tbody>\n",
       "</table>\n",
       "</div>"
      ],
      "text/plain": [
       "   Salary    AVG    OBP  Runs  Hits  Doubles  Triples  HR  RBI  Walks  SO  SB  \\\n",
       "0    3300  0.272  0.302    69   153       21        4  31  104     22  80   4   \n",
       "1    2313  0.273  0.346    87   169       28        5   8   58     70  53   3   \n",
       "2     200  0.203  0.240    39    64       10        1  10   33     14  96  13   \n",
       "\n",
       "   Errs  free agency eligibility  free agent in 1991/2  \\\n",
       "0     3                        1                     0   \n",
       "1     8                        0                     0   \n",
       "2     6                        0                     0   \n",
       "\n",
       "   arbitration eligibility  arbitration in 1991/2          Name  Shoe Size  \n",
       "0                        0                      0  Andre Dawson         11  \n",
       "1                        1                      0    Mark Grace         13  \n",
       "2                        0                      0    Sammy Sosa         12  "
      ]
     },
     "execution_count": 31,
     "metadata": {},
     "output_type": "execute_result"
    }
   ],
   "source": [
    "merged = pd.merge(baseball, shoe_size_df, on=['Name'])\n",
    "merged"
   ]
  },
  {
   "cell_type": "code",
   "execution_count": 32,
   "metadata": {
    "collapsed": false
   },
   "outputs": [
    {
     "data": {
      "text/html": [
       "<div>\n",
       "<table border=\"1\" class=\"dataframe\">\n",
       "  <thead>\n",
       "    <tr style=\"text-align: right;\">\n",
       "      <th></th>\n",
       "      <th>Salary</th>\n",
       "      <th>AVG</th>\n",
       "      <th>OBP</th>\n",
       "      <th>Runs</th>\n",
       "      <th>Hits</th>\n",
       "      <th>Doubles</th>\n",
       "      <th>Triples</th>\n",
       "      <th>HR</th>\n",
       "      <th>RBI</th>\n",
       "      <th>Walks</th>\n",
       "      <th>SO</th>\n",
       "      <th>SB</th>\n",
       "      <th>Errs</th>\n",
       "      <th>free agency eligibility</th>\n",
       "      <th>free agent in 1991/2</th>\n",
       "      <th>arbitration eligibility</th>\n",
       "      <th>arbitration in 1991/2</th>\n",
       "      <th>Name</th>\n",
       "      <th>Shoe Size</th>\n",
       "    </tr>\n",
       "  </thead>\n",
       "  <tbody>\n",
       "    <tr>\n",
       "      <th>0</th>\n",
       "      <td>3300</td>\n",
       "      <td>0.272</td>\n",
       "      <td>0.302</td>\n",
       "      <td>69</td>\n",
       "      <td>153</td>\n",
       "      <td>21</td>\n",
       "      <td>4</td>\n",
       "      <td>31</td>\n",
       "      <td>104</td>\n",
       "      <td>22</td>\n",
       "      <td>80</td>\n",
       "      <td>4</td>\n",
       "      <td>3</td>\n",
       "      <td>1</td>\n",
       "      <td>0</td>\n",
       "      <td>0</td>\n",
       "      <td>0</td>\n",
       "      <td>Andre Dawson</td>\n",
       "      <td>11.0</td>\n",
       "    </tr>\n",
       "    <tr>\n",
       "      <th>1</th>\n",
       "      <td>2600</td>\n",
       "      <td>0.269</td>\n",
       "      <td>0.335</td>\n",
       "      <td>58</td>\n",
       "      <td>111</td>\n",
       "      <td>17</td>\n",
       "      <td>2</td>\n",
       "      <td>18</td>\n",
       "      <td>66</td>\n",
       "      <td>39</td>\n",
       "      <td>69</td>\n",
       "      <td>0</td>\n",
       "      <td>3</td>\n",
       "      <td>1</td>\n",
       "      <td>1</td>\n",
       "      <td>0</td>\n",
       "      <td>0</td>\n",
       "      <td>Steve Buchele</td>\n",
       "      <td>NaN</td>\n",
       "    </tr>\n",
       "    <tr>\n",
       "      <th>2</th>\n",
       "      <td>2500</td>\n",
       "      <td>0.249</td>\n",
       "      <td>0.337</td>\n",
       "      <td>54</td>\n",
       "      <td>115</td>\n",
       "      <td>15</td>\n",
       "      <td>1</td>\n",
       "      <td>17</td>\n",
       "      <td>73</td>\n",
       "      <td>63</td>\n",
       "      <td>116</td>\n",
       "      <td>6</td>\n",
       "      <td>5</td>\n",
       "      <td>1</td>\n",
       "      <td>0</td>\n",
       "      <td>0</td>\n",
       "      <td>0</td>\n",
       "      <td>Kal Daniels</td>\n",
       "      <td>NaN</td>\n",
       "    </tr>\n",
       "    <tr>\n",
       "      <th>3</th>\n",
       "      <td>2475</td>\n",
       "      <td>0.260</td>\n",
       "      <td>0.292</td>\n",
       "      <td>59</td>\n",
       "      <td>128</td>\n",
       "      <td>22</td>\n",
       "      <td>7</td>\n",
       "      <td>12</td>\n",
       "      <td>50</td>\n",
       "      <td>23</td>\n",
       "      <td>64</td>\n",
       "      <td>21</td>\n",
       "      <td>21</td>\n",
       "      <td>0</td>\n",
       "      <td>0</td>\n",
       "      <td>1</td>\n",
       "      <td>0</td>\n",
       "      <td>Shawon Dunston</td>\n",
       "      <td>NaN</td>\n",
       "    </tr>\n",
       "    <tr>\n",
       "      <th>4</th>\n",
       "      <td>2313</td>\n",
       "      <td>0.273</td>\n",
       "      <td>0.346</td>\n",
       "      <td>87</td>\n",
       "      <td>169</td>\n",
       "      <td>28</td>\n",
       "      <td>5</td>\n",
       "      <td>8</td>\n",
       "      <td>58</td>\n",
       "      <td>70</td>\n",
       "      <td>53</td>\n",
       "      <td>3</td>\n",
       "      <td>8</td>\n",
       "      <td>0</td>\n",
       "      <td>0</td>\n",
       "      <td>1</td>\n",
       "      <td>0</td>\n",
       "      <td>Mark Grace</td>\n",
       "      <td>13.0</td>\n",
       "    </tr>\n",
       "  </tbody>\n",
       "</table>\n",
       "</div>"
      ],
      "text/plain": [
       "   Salary    AVG    OBP  Runs  Hits  Doubles  Triples  HR  RBI  Walks   SO  \\\n",
       "0    3300  0.272  0.302    69   153       21        4  31  104     22   80   \n",
       "1    2600  0.269  0.335    58   111       17        2  18   66     39   69   \n",
       "2    2500  0.249  0.337    54   115       15        1  17   73     63  116   \n",
       "3    2475  0.260  0.292    59   128       22        7  12   50     23   64   \n",
       "4    2313  0.273  0.346    87   169       28        5   8   58     70   53   \n",
       "\n",
       "   SB  Errs  free agency eligibility  free agent in 1991/2  \\\n",
       "0   4     3                        1                     0   \n",
       "1   0     3                        1                     1   \n",
       "2   6     5                        1                     0   \n",
       "3  21    21                        0                     0   \n",
       "4   3     8                        0                     0   \n",
       "\n",
       "   arbitration eligibility  arbitration in 1991/2            Name  Shoe Size  \n",
       "0                        0                      0    Andre Dawson       11.0  \n",
       "1                        0                      0   Steve Buchele        NaN  \n",
       "2                        0                      0     Kal Daniels        NaN  \n",
       "3                        1                      0  Shawon Dunston        NaN  \n",
       "4                        1                      0      Mark Grace       13.0  "
      ]
     },
     "execution_count": 32,
     "metadata": {},
     "output_type": "execute_result"
    }
   ],
   "source": [
    "merged_outer = pd.merge(baseball, shoe_size_df, on=['Name'], how='outer')\n",
    "merged_outer.head()"
   ]
  },
  {
   "cell_type": "markdown",
   "metadata": {
    "collapsed": true
   },
   "source": [
    "### <span style=\"color:red\">Self-Driven Pandas Exercise</span>\n",
    "1. Partner up with someone next to you.  Then, on one of your computers:\n",
    "  1. Prepend a column of ones to the dataframe `X_df` below.  Name the new column 'const'.\n",
    "  1. Again, matrix multiply `X_df` by the `betas` vector and assign the result to an new variable: `y_new`\n",
    "  1. You'll know you've got it when the cell prints '\\*\\*\\*\\*\\*\\* Tests passed! \\*\\*\\*\\*\\*\\*' at the bottom.\n",
    "\n",
    "  **Hint**: This stackoverflow post may be useful: http://stackoverflow.com/questions/13148429/how-to-change-the-order-of-dataframe-columns"
   ]
  },
  {
   "cell_type": "code",
   "execution_count": 36,
   "metadata": {
    "collapsed": false
   },
   "outputs": [
    {
     "name": "stdout",
     "output_type": "stream",
     "text": [
      "****** Tests passed! ******\n"
     ]
    }
   ],
   "source": [
    "np.random.seed(3333)\n",
    "n_data = 10 # number of data points. i.e. N\n",
    "n_dim = 5   # number of dimensions of each datapoint.  i.e. D\n",
    "\n",
    "betas = np.random.randn(n_dim + 1)\n",
    "\n",
    "X_df = pd.DataFrame(data=np.random.randn(n_data, n_dim))\n",
    "\n",
    "# INSERT YOUR CODE HERE!\n",
    "X_df['const'] = np.ones(n_data)\n",
    "y_new = np.dot(X_df, betas)\n",
    "\n",
    "# Tests:\n",
    "assert 'const' in X_df.keys(), 'The new column must be called \"const\"'\n",
    "assert np.all(X_df.shape == (n_data, n_dim+1))\n",
    "assert len(y_new == n_data)\n",
    "print '****** Tests passed! ******'"
   ]
  },
  {
   "cell_type": "code",
   "execution_count": 37,
   "metadata": {
    "collapsed": false
   },
   "outputs": [
    {
     "data": {
      "text/html": [
       "<div>\n",
       "<table border=\"1\" class=\"dataframe\">\n",
       "  <thead>\n",
       "    <tr style=\"text-align: right;\">\n",
       "      <th></th>\n",
       "      <th>0</th>\n",
       "      <th>1</th>\n",
       "      <th>2</th>\n",
       "      <th>3</th>\n",
       "      <th>4</th>\n",
       "      <th>const</th>\n",
       "    </tr>\n",
       "  </thead>\n",
       "  <tbody>\n",
       "    <tr>\n",
       "      <th>0</th>\n",
       "      <td>-0.922329</td>\n",
       "      <td>0.273524</td>\n",
       "      <td>-0.863396</td>\n",
       "      <td>1.437660</td>\n",
       "      <td>-1.713799</td>\n",
       "      <td>1.0</td>\n",
       "    </tr>\n",
       "    <tr>\n",
       "      <th>1</th>\n",
       "      <td>0.179322</td>\n",
       "      <td>-0.891386</td>\n",
       "      <td>2.130056</td>\n",
       "      <td>0.518990</td>\n",
       "      <td>-0.418751</td>\n",
       "      <td>1.0</td>\n",
       "    </tr>\n",
       "    <tr>\n",
       "      <th>2</th>\n",
       "      <td>0.340101</td>\n",
       "      <td>-1.077366</td>\n",
       "      <td>-1.023141</td>\n",
       "      <td>-1.025185</td>\n",
       "      <td>0.409721</td>\n",
       "      <td>1.0</td>\n",
       "    </tr>\n",
       "    <tr>\n",
       "      <th>3</th>\n",
       "      <td>1.188838</td>\n",
       "      <td>1.010448</td>\n",
       "      <td>0.310822</td>\n",
       "      <td>-1.178686</td>\n",
       "      <td>-0.495263</td>\n",
       "      <td>1.0</td>\n",
       "    </tr>\n",
       "    <tr>\n",
       "      <th>4</th>\n",
       "      <td>-1.502484</td>\n",
       "      <td>-0.196458</td>\n",
       "      <td>0.347529</td>\n",
       "      <td>-0.792005</td>\n",
       "      <td>-0.315347</td>\n",
       "      <td>1.0</td>\n",
       "    </tr>\n",
       "    <tr>\n",
       "      <th>5</th>\n",
       "      <td>1.732452</td>\n",
       "      <td>-1.427936</td>\n",
       "      <td>-0.943766</td>\n",
       "      <td>0.868235</td>\n",
       "      <td>-0.959468</td>\n",
       "      <td>1.0</td>\n",
       "    </tr>\n",
       "    <tr>\n",
       "      <th>6</th>\n",
       "      <td>-1.070746</td>\n",
       "      <td>-0.065552</td>\n",
       "      <td>-2.176896</td>\n",
       "      <td>1.585388</td>\n",
       "      <td>1.814926</td>\n",
       "      <td>1.0</td>\n",
       "    </tr>\n",
       "    <tr>\n",
       "      <th>7</th>\n",
       "      <td>-0.737061</td>\n",
       "      <td>0.775460</td>\n",
       "      <td>0.426539</td>\n",
       "      <td>-0.518537</td>\n",
       "      <td>-0.530455</td>\n",
       "      <td>1.0</td>\n",
       "    </tr>\n",
       "    <tr>\n",
       "      <th>8</th>\n",
       "      <td>1.096205</td>\n",
       "      <td>-0.695573</td>\n",
       "      <td>0.030801</td>\n",
       "      <td>0.252196</td>\n",
       "      <td>-0.353043</td>\n",
       "      <td>1.0</td>\n",
       "    </tr>\n",
       "    <tr>\n",
       "      <th>9</th>\n",
       "      <td>-0.939712</td>\n",
       "      <td>0.044481</td>\n",
       "      <td>0.042731</td>\n",
       "      <td>0.496148</td>\n",
       "      <td>-1.767357</td>\n",
       "      <td>1.0</td>\n",
       "    </tr>\n",
       "  </tbody>\n",
       "</table>\n",
       "</div>"
      ],
      "text/plain": [
       "          0         1         2         3         4  const\n",
       "0 -0.922329  0.273524 -0.863396  1.437660 -1.713799    1.0\n",
       "1  0.179322 -0.891386  2.130056  0.518990 -0.418751    1.0\n",
       "2  0.340101 -1.077366 -1.023141 -1.025185  0.409721    1.0\n",
       "3  1.188838  1.010448  0.310822 -1.178686 -0.495263    1.0\n",
       "4 -1.502484 -0.196458  0.347529 -0.792005 -0.315347    1.0\n",
       "5  1.732452 -1.427936 -0.943766  0.868235 -0.959468    1.0\n",
       "6 -1.070746 -0.065552 -2.176896  1.585388  1.814926    1.0\n",
       "7 -0.737061  0.775460  0.426539 -0.518537 -0.530455    1.0\n",
       "8  1.096205 -0.695573  0.030801  0.252196 -0.353043    1.0\n",
       "9 -0.939712  0.044481  0.042731  0.496148 -1.767357    1.0"
      ]
     },
     "execution_count": 37,
     "metadata": {},
     "output_type": "execute_result"
    }
   ],
   "source": [
    "X_df"
   ]
  },
  {
   "cell_type": "code",
   "execution_count": null,
   "metadata": {
    "collapsed": true
   },
   "outputs": [],
   "source": []
  }
 ],
 "metadata": {
  "anaconda-cloud": {},
  "celltoolbar": "Raw Cell Format",
  "kernelspec": {
   "display_name": "Python [Root]",
   "language": "python",
   "name": "Python [Root]"
  },
  "language_info": {
   "codemirror_mode": {
    "name": "ipython",
    "version": 2
   },
   "file_extension": ".py",
   "mimetype": "text/x-python",
   "name": "python",
   "nbconvert_exporter": "python",
   "pygments_lexer": "ipython2",
   "version": "2.7.12"
  }
 },
 "nbformat": 4,
 "nbformat_minor": 0
}
